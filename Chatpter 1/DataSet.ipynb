{
 "cells": [
  {
   "cell_type": "code",
   "execution_count": 12,
   "id": "dc1c6d31-6bbf-40de-98d6-8619fc5b1b2c",
   "metadata": {},
   "outputs": [
    {
     "name": "stdout",
     "output_type": "stream",
     "text": [
      "((3, 4), 12)\n",
      "((0, 1), 0)\n",
      "((1, 2), 2)\n",
      "((2, 3), 6)\n",
      "((3, 4), 12)\n",
      "((4, 5), 20)\n",
      "((5, 6), 30)\n",
      "((6, 7), 42)\n",
      "((7, 8), 56)\n",
      "((8, 9), 72)\n",
      "((9, 10), 90)\n"
     ]
    }
   ],
   "source": [
    "from torch.utils.data import Dataset\n",
    "\n",
    "# Create a toy dataset\n",
    "class NumberProductDataset(Dataset):\n",
    "    def __init__(self, data_range=(1, 10)):\n",
    "        self.numbers = list(range(data_range[0], data_range[1]))\n",
    "\n",
    "    def __getitem__(self, index):\n",
    "        number1 = self.numbers[index]\n",
    "        number2 = self.numbers[index] + 1\n",
    "        return (number1, number2), number1 * number2\n",
    "\n",
    "    def __len__(self):\n",
    "        return len(self.numbers)\n",
    "\n",
    "# Instantiate the dataset\n",
    "dataset = NumberProductDataset(\n",
    "    data_range=(0, 11)\n",
    ")\n",
    "\n",
    "# Access a data sample\n",
    "data_sample = dataset[3]\n",
    "print(data_sample)\n",
    "\n",
    "for i in range(10):\n",
    "    print(dataset[i])\n",
    "# ((3, 4), 12)"
   ]
  },
  {
   "cell_type": "code",
   "execution_count": 13,
   "id": "2b524624-4c1d-4648-a9b0-6a2b3bef48ba",
   "metadata": {},
   "outputs": [
    {
     "name": "stdout",
     "output_type": "stream",
     "text": [
      "[tensor([4, 2, 1]), tensor([5, 3, 2])] tensor([20,  6,  2])\n",
      "[tensor([0, 3]), tensor([1, 4])] tensor([ 0, 12])\n"
     ]
    }
   ],
   "source": [
    "from torch.utils.data import DataLoader\n",
    "\n",
    "# Instantiate the dataset\n",
    "dataset = NumberProductDataset(data_range=(0, 5))\n",
    "\n",
    "# Create a DataLoader instance\n",
    "dataloader = DataLoader(dataset, batch_size=3, shuffle=True)\n",
    "\n",
    "# Iterating over batches\n",
    "for (num_pairs, products) in dataloader:\n",
    "    print(num_pairs, products)\n",
    "# [tensor([4, 3, 1]), tensor([5, 4, 2])] tensor([20, 12, 2])\n",
    "# [tensor([2, 0]), tensor([3, 1])] tensor([6, 0])"
   ]
  },
  {
   "cell_type": "code",
   "execution_count": null,
   "id": "dab75164-940c-4c3b-811e-d632ad21d270",
   "metadata": {},
   "outputs": [],
   "source": []
  }
 ],
 "metadata": {
  "kernelspec": {
   "display_name": "Python 3 (ipykernel)",
   "language": "python",
   "name": "python3"
  },
  "language_info": {
   "codemirror_mode": {
    "name": "ipython",
    "version": 3
   },
   "file_extension": ".py",
   "mimetype": "text/x-python",
   "name": "python",
   "nbconvert_exporter": "python",
   "pygments_lexer": "ipython3",
   "version": "3.11.7"
  }
 },
 "nbformat": 4,
 "nbformat_minor": 5
}
